{
 "cells": [
  {
   "cell_type": "markdown",
   "id": "e61544e8-8ed9-4718-9edc-a21c11061698",
   "metadata": {},
   "source": [
    "# Exercise 09"
   ]
  },
  {
   "cell_type": "markdown",
   "id": "864c6dbc-66ce-4bbc-bd02-cda95d259dd0",
   "metadata": {},
   "source": [
    "## Changes to the Evacuation Model\n",
    "\n",
    "To enable exercises about stochasticity, the evacuation model has been modified:\n",
    "\n",
    "* Isolated stochastic processes\n",
    "  * *rng_propagate* for information propagation\n",
    "  * *rng_placement* for placing agents in the room\n",
    "  * *rng_orientation* for the agents' initial orientation\n",
    "* addded `_str__` und `__repr__` function for Human and FloorObject\n"
   ]
  },
  {
   "cell_type": "markdown",
   "id": "bbf41006-01dc-4682-8d2e-7b91a471eadb",
   "metadata": {},
   "source": [
    "## Evaluation Code\n"
   ]
  },
  {
   "cell_type": "code",
   "execution_count": null,
   "id": "9d681017-1438-4b14-9e74-aefa05c6f82f",
   "metadata": {
    "tags": []
   },
   "outputs": [],
   "source": [
    "\n",
    "from mesa.batchrunner import batch_run\n",
    "import matplotlib.pyplot as plt\n",
    "import pandas as pd\n",
    "import numpy as np\n",
    "from matplotlib.colors import LinearSegmentedColormap\n",
    "\n",
    "import sys\n",
    "sys.path.insert(0,'../../abmodel')\n",
    "\n",
    "from fire_evacuation.model import FireEvacuation\n",
    "from fire_evacuation.agent import Human\n",
    "\n",
    "\n",
    "unikcolors = [np.array((80,149,200))/255, np.array((74,172,150))/255,\n",
    "                                                  np.array((234,195,114))/255, np.array((199,16,92))/255]\n",
    "uniks = LinearSegmentedColormap.from_list( 'unik', unikcolors)"
   ]
  },
  {
   "cell_type": "markdown",
   "id": "315f37d7-5b75-49f5-8096-091974807f0d",
   "metadata": {},
   "source": [
    "# Task 2 (Stochasticity in the evacuation model)\n",
    "\n",
    "## Subtask 2 (Isolation of random processes)\n",
    "\n",
    "There are many random processes involved in the evacuation model. To get an idea about their particular impact on the model, underlying random number streams can be isolated, i.e. for each process a separate random number stream can be used.\n",
    "\n",
    "Boxplots are a suitable type of figure to show the variation in results. Complete the functon `plotBoxplots()` and visualise the data from simulations with varying random seed for different random processes as boxplot showing **mean** and outliers. You find hints on how to program boxplots with matplotlib at [pandas plot function](https://pandas.pydata.org/docs/reference/api/pandas.DataFrame.boxplot.html), at [matplotlib examples](https://matplotlib.org/3.5.1/plot_types/stats/boxplot_plot.html#sphx-glr-plot-types-stats-boxplot-plot-py) and/or [this tutorial](https://machinelearningknowledge.ai/matplotlib-boxplot-tutorial-for-beginners/).\n",
    "\n",
    "Execute the following code and discuss the results. Choose suitable values for `ylim` (consider plotting twice with different values of `ylim`). Formulate statements about the impact of each of the random processes (<250 words)! Also consider outliers!"
   ]
  },
  {
   "cell_type": "code",
   "execution_count": null,
   "id": "068d80e3-38ec-4d24-88cd-d8dd93a1f99d",
   "metadata": {
    "tags": []
   },
   "outputs": [],
   "source": [
    "# Complete the following method with the creation of boxplots:\n",
    "def plotBoxplot(data=None, title=\"\", **kwargs):\n",
    "    \"\"\"\n",
    "    Parameters\n",
    "        ----------\n",
    "        data : dataFrame\n",
    "            with entries \"Placement\", \"Orientation\", \"Propagation\" in column 'RNG' for one value of interact_moore\n",
    "        title : str\n",
    "    \"\"\"\n",
    "    \n",
    "    # Implement boxplot here\n",
    "\n",
    "    plt.title(title)"
   ]
  },
  {
   "cell_type": "code",
   "execution_count": null,
   "id": "2a7003e2-cf1b-44ef-aa1d-ccce2e2791a1",
   "metadata": {
    "tags": []
   },
   "outputs": [],
   "source": [
    "params = dict(\n",
    "    floor_size=14,\n",
    "    human_count=100,\n",
    "    nervousness_mean = 0.5,\n",
    "    facilitators_percentage= 5,\n",
    "    interact_moore = {0.05, 0.1, 0.4},\n",
    "    seed = 0,\n",
    "    seed_placement = range(0,30),\n",
    "    seed_orientation = 0,\n",
    "    seed_propagate = 0\n",
    ")\n",
    "results_placement = batch_run(\n",
    "        FireEvacuation,\n",
    "        parameters=params,\n",
    "        iterations = 1,\n",
    "        max_steps = 500,\n",
    "    )\n",
    "\n",
    "params = dict(\n",
    "    floor_size=14,\n",
    "    human_count=100,\n",
    "    nervousness_mean = 0.5,\n",
    "    facilitators_percentage= 5,\n",
    "    interact_moore = {0.05, 0.1, 0.4},\n",
    "    seed = 0,\n",
    "    seed_placement = 0,\n",
    "    seed_orientation = range(0,30),\n",
    "    seed_propagate = 0\n",
    ")\n",
    "results_orientation = batch_run(\n",
    "        FireEvacuation,\n",
    "        parameters=params,\n",
    "        iterations = 1,\n",
    "        max_steps = 500,\n",
    "    )\n",
    "\n",
    "params = dict(\n",
    "    floor_size=14,\n",
    "    human_count=100,\n",
    "    nervousness_mean = 0.5,\n",
    "    facilitators_percentage= 5,\n",
    "    interact_moore = {0.05, 0.1, 0.4},\n",
    "    seed = 0,\n",
    "    seed_placement = 0,\n",
    "    seed_orientation = 0,\n",
    "    seed_propagate = range(0,30)\n",
    ")    \n",
    "results_propagate = batch_run(\n",
    "        FireEvacuation,\n",
    "        parameters=params,\n",
    "        iterations = 1,\n",
    "        max_steps = 500,\n",
    "    )"
   ]
  },
  {
   "cell_type": "code",
   "execution_count": null,
   "id": "bcf5d893-b462-49e8-9cdb-9e4ad9d171f5",
   "metadata": {
    "tags": []
   },
   "outputs": [],
   "source": [
    "data_placement = pd.DataFrame(results_placement)[['interact_moore', 'Step']].round(decimals=2)\n",
    "data_orientation = pd.DataFrame(results_orientation)[['interact_moore','Step']].round(decimals=2)\n",
    "data_propagate = pd.DataFrame(results_propagate)[['interact_moore','Step']].round(decimals=2)\n",
    "\n",
    "# depending on the type of figure you're going to generate, the data may need to be organised differently!\n",
    "data_placement['RNG']='Placement'\n",
    "data_orientation['RNG']='Orientation'\n",
    "data_propagate['RNG']='Propagation'\n",
    "datas = pd.concat([data_placement, data_orientation, data_propagate], axis=0)\n",
    "\n",
    "plotBoxplot(datas[datas['interact_moore'] == 0.05].drop(['interact_moore'], axis=1),\n",
    "            title = \"Variation in Steps for Random Processes for an Interaction Prob. of 0.05\", showfliers=False)\n",
    "plotBoxplot(datas[datas['interact_moore'] == 0.1].drop(['interact_moore'], axis=1),\n",
    "            title = \"Variation in Steps for Random Processes for an Interaction Prob. of 0.1\", showfliers=False)\n",
    "plotBoxplot(datas[datas['interact_moore'] == 0.4].drop(['interact_moore'], axis=1),\n",
    "            title = \"Variation in Steps for Random Processes for an Interaction Prob. of 0.4\", showfliers=False)"
   ]
  },
  {
   "cell_type": "markdown",
   "id": "f032f7c0-58c2-4692-851c-b2023634c7d0",
   "metadata": {},
   "source": [
    "**Describe your findings here (max. 200 words)**"
   ]
  },
  {
   "cell_type": "markdown",
   "id": "024817c6-6bdd-48ea-bace-50396aaae1c6",
   "metadata": {},
   "source": [
    "## Subtask 3 (Contingency)\n",
    "\n",
    "Contingency means the dependence of random processes on the context. Find two stochastic processes in the evacuation model that can be modelled with contingency. Provide pseudo code for each of the processes that introduces contingency. Argue for your approach!\n",
    "\n",
    "\n",
    "| Property | Probability |\n",
    "|----------|-------------|\n",
    "| adult    | high        |\n",
    "| child    | low         |\n"
   ]
  },
  {
   "cell_type": "markdown",
   "id": "188d010c-033f-4fb1-a3f1-bed55444b4f3",
   "metadata": {},
   "source": [
    "**Write your answer here (200 words max. and pseudo code)!**"
   ]
  },
  {
   "cell_type": "markdown",
   "id": "aadd7c17-1016-4930-af05-e3d0a066b810",
   "metadata": {},
   "source": [
    "## Subtask 4 (Random to deterministic)\n",
    "\n",
    "If one wants to avoid random numbers in the evacuation model, how could the propagation of information (alarm situation) be modeled in more detail without random processes? Provide pseudo code! What are the advantages and disadvantages of such an approach?\n",
    "\n",
    "Are there other processes that could be modelled deterministic and detailed instead of randomly? Consider the three reasons for random processes!"
   ]
  },
  {
   "cell_type": "markdown",
   "id": "98b62fd4-2222-4def-a5e1-d8e42bedcd3f",
   "metadata": {},
   "source": [
    "**Write your anwser here (300 words max. and pseudo code)**"
   ]
  },
  {
   "cell_type": "markdown",
   "id": "56b9c021-f056-4ece-8680-17d384eeec68",
   "metadata": {},
   "source": [
    "# Task 3 (Diffusion: System Dynamics Version of SI Model)\n",
    "\n",
    "-> See worksheet"
   ]
  },
  {
   "cell_type": "code",
   "execution_count": null,
   "id": "54cd46b2-389f-4daa-a450-59ce37c8be1c",
   "metadata": {},
   "outputs": [],
   "source": []
  }
 ],
 "metadata": {
  "kernelspec": {
   "display_name": "Python 3 (ipykernel)",
   "language": "python",
   "name": "python3"
  },
  "language_info": {
   "codemirror_mode": {
    "name": "ipython",
    "version": 3
   },
   "file_extension": ".py",
   "mimetype": "text/x-python",
   "name": "python",
   "nbconvert_exporter": "python",
   "pygments_lexer": "ipython3",
   "version": "3.10.12"
  }
 },
 "nbformat": 4,
 "nbformat_minor": 5
}
