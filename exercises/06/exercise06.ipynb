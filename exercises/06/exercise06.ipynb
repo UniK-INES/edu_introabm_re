{
 "cells": [
  {
   "cell_type": "markdown",
   "id": "e61544e8-8ed9-4718-9edc-a21c11061698",
   "metadata": {},
   "source": [
    "# Exercise 06"
   ]
  },
  {
   "cell_type": "markdown",
   "id": "864c6dbc-66ce-4bbc-bd02-cda95d259dd0",
   "metadata": {},
   "source": [
    "## Some Information about the Evacuation Model\n",
    "\n",
    "* Agents have a field of vision oriented towards their direction of movement (NORTH, EAST, SOUTH, WEST). Within the field of vision they learn about exits and other humans.\n",
    "\n",
    " ![Vision](./resources/FireEvacuation_Refactored_Vision.png) \n",
    "\n",
    "* If agents do not see an exit in their field of vision they turn clockwise.\n",
    "* Agents can cooperate based on their cooperativeness with humans in their field of vision. They choose the nearest visible human that either has speed zero, does not believe in alarm, or does not yet know about any exit. The active agent then tries to reach the agent and\n",
    "  * makes it believe in alarms\n",
    "  * exchange information about exits the agent knows\n",
    "  * sets the speed to 1\n",
    "* When nervous, agents either accelerate or slow down\n",
    "* Introduction of crowds anxiety: When the proportion of agents in the neighbourhood exceeds a threshold, the nervousness increases\n",
    "* Panic random walk: With certain probability during high nervousness, walk in a random direction"
   ]
  },
  {
   "cell_type": "markdown",
   "id": "bbf41006-01dc-4682-8d2e-7b91a471eadb",
   "metadata": {},
   "source": [
    "## Evaluation Code\n"
   ]
  },
  {
   "cell_type": "code",
   "execution_count": null,
   "id": "07f2b062-eb68-4d37-afee-82b33cfa7760",
   "metadata": {},
   "outputs": [],
   "source": [
    "from mesa.batchrunner import batch_run\n",
    "import matplotlib.pyplot as plt\n",
    "import pandas as pd\n",
    "import numpy as np\n",
    "from matplotlib.colors import LinearSegmentedColormap\n",
    "\n",
    "import sys\n",
    "sys.path.insert(0,'../../abmodel')\n",
    "\n",
    "\n",
    "from fire_evacuation.model import FireEvacuation\n",
    "from fire_evacuation.agent import Human"
   ]
  },
  {
   "cell_type": "code",
   "execution_count": null,
   "id": "5c2be947-1995-4721-8fd0-6e2031bbd65a",
   "metadata": {
    "tags": []
   },
   "outputs": [],
   "source": [
    "uniks = LinearSegmentedColormap.from_list( 'unik', [np.array((80,149,200))/255, np.array((74,172,150))/255,\n",
    "                                                  np.array((234,195,114))/255, np.array((199,16,92))/255])\n",
    "\n",
    "def draw_grid(model, ax=None, focus=None):\n",
    "    \"\"\"\n",
    "    Draw the current state of the grid\n",
    "    \"\"\"\n",
    "    if not ax:\n",
    "        fig, ax = plt.subplots(figsize=(6, 6))\n",
    "\n",
    "    \n",
    "    if focus == None:\n",
    "        focus = (model.grid.width, model.grid.height)\n",
    "\n",
    "    grid = np.zeros((focus[0], focus[1]))\n",
    "    for agents, (x, y) in model.grid.coord_iter():\n",
    "        if x < focus[0] and y < focus[1]:\n",
    "            for agent in agents:\n",
    "                if isinstance(agent, Human):    \n",
    "                    grid[x][y] = 1\n",
    "                    continue\n",
    "                \n",
    "    ax.pcolormesh(grid, cmap=uniks, vmin=0, vmax=1)\n",
    "    ax.axis(\"off\")\n",
    "    ax.set_title(\"Steps: {}\".format(model.schedule.steps))"
   ]
  },
  {
   "cell_type": "code",
   "execution_count": null,
   "id": "6d1dd378-48f9-4e30-86b1-79759f03bedd",
   "metadata": {
    "tags": []
   },
   "outputs": [],
   "source": [
    "def run_model(model, steps = [2,2,2,2,2], focus = None):\n",
    "    \"\"\"\n",
    "    Run an experiment with a given model, and plot the results.\n",
    "    \"\"\"\n",
    "    fig = plt.figure(figsize=(12, 5))\n",
    "\n",
    "    for i in range(0, len(steps)):\n",
    "        draw_grid(model, fig.add_subplot(2, len(steps) + 1, i + 1 ), focus=focus)\n",
    "        model.run(steps[i])\n",
    "        \n",
    "    draw_grid(model, fig.add_subplot(2, len(steps) + 1, i + 2 ), focus=focus)\n",
    "    \n",
    "    ax = fig.add_subplot(2, 1, 2)\n",
    "\n",
    "    d = model.datacollector.get_model_vars_dataframe()\n",
    "    d = d * 100 / model.schedule.get_agent_count()\n",
    "    d.plot(ax=ax, colormap=uniks)"
   ]
  },
  {
   "cell_type": "markdown",
   "id": "315f37d7-5b75-49f5-8096-091974807f0d",
   "metadata": {},
   "source": [
    "# Task 2 (Adaptation in the evacuation model)\n",
    "\n",
    "## Subtask 2.2\n",
    "\n",
    "Place you table here or as separate spreadsheet file"
   ]
  },
  {
   "cell_type": "markdown",
   "id": "8489ef73-3e39-4157-a863-1f87914d118f",
   "metadata": {},
   "source": [
    "## Subtask 2.3\n",
    "\n",
    "Extend the model code to count decision, restart the kernel (Menu > Kernel > Restart Kernel and Run All Cells), and inspect results."
   ]
  },
  {
   "cell_type": "code",
   "execution_count": null,
   "id": "3c889859-b587-4335-9484-682a3b47d5ae",
   "metadata": {},
   "outputs": [],
   "source": [
    "evacuation = FireEvacuation(floor_size = 12,\n",
    "        human_count = 50,\n",
    "        alarm_believers_prop = 1.0,\n",
    "        max_speed = 3,\n",
    "        cooperation_mean = 0.3,\n",
    "        nervousness_mean = 0.3,\n",
    "        seed = 1)\n",
    "run_model(evacuation, steps = [10,1,1,1,10])"
   ]
  },
  {
   "cell_type": "code",
   "execution_count": null,
   "id": "fd6926ee-a059-411c-81e7-8a936cee5316",
   "metadata": {
    "tags": []
   },
   "outputs": [],
   "source": [
    "# implement batch runs here"
   ]
  },
  {
   "cell_type": "markdown",
   "id": "188d010c-033f-4fb1-a3f1-bed55444b4f3",
   "metadata": {},
   "source": [
    "**Describe your finding here (learn about Markdown syntax via Menu > Help > Markdown Reference)!**"
   ]
  },
  {
   "cell_type": "markdown",
   "id": "a5a6539e-377f-46d9-908f-abf06beaa1f6",
   "metadata": {},
   "source": [
    "# Task 3 (Exploring the interplay of different objectives in the evacuation model)\n",
    "\n",
    "## Subtask 3.1"
   ]
  },
  {
   "cell_type": "markdown",
   "id": "ce4c6b35-3981-4ecc-9e41-f3b228a689c3",
   "metadata": {},
   "source": [
    "**List the measures suitable to quantify success for each of the two selected objectives here!**"
   ]
  },
  {
   "cell_type": "markdown",
   "id": "16f02654-cb88-4d4e-9896-3e5a40ea297b",
   "metadata": {},
   "source": [
    "## Subtask 3.2\n",
    "\n",
    "**Write the objective funtion here (by editing the formula and symbols below)!**\n",
    "\n",
    "Find hints to write formula in markdown [here](https://jupyterbook.org/en/stable/content/math.html). A comprehensive introduction about how to write math formula in LaTeX is in the [LaTeX wiki](https://en.wikibooks.org/wiki/LaTeX/Mathematics). A list of all mathematical symbols and their LaTeX code is [here](https://artofproblemsolving.com/wiki/index.php/LaTeX:Symbols).\n",
    "Objective function for <decision>\n",
    "    \n",
    "$$u_{option}^i = \\sum$$\n",
    "    \n",
    "### Meaning of symbols\n",
    " * $i$ agent\n",
    " * $u$ utility    "
   ]
  },
  {
   "cell_type": "markdown",
   "id": "a05c0d94-0244-4ba0-9b7d-5189ec4403bd",
   "metadata": {},
   "source": [
    "# Task 4 (Extend adaptation in the evacuation model)\n",
    "\n",
    "## Subtask 4.1"
   ]
  },
  {
   "cell_type": "markdown",
   "id": "ece0de80-eee5-4c1b-8a9c-9c1fd98a8a89",
   "metadata": {},
   "source": [
    "**Describe your concept to improve *turn()* and the relevant agent properties here (bullet points)!**"
   ]
  },
  {
   "cell_type": "markdown",
   "id": "32d2e228-4602-48eb-a0b4-3b38da66fabb",
   "metadata": {},
   "source": [
    "## Subtask 4.2\n",
    "\n",
    "Implement your improvements to the *turn()* method."
   ]
  },
  {
   "cell_type": "markdown",
   "id": "0d676753-a93f-428c-8cfb-7540f2915493",
   "metadata": {},
   "source": [
    "## Subtask 4.3\n",
    "\n",
    "Restart the kernel to apply your changes in *abmodel/fire_evacuation/agent.py*"
   ]
  },
  {
   "cell_type": "code",
   "execution_count": null,
   "id": "6ecafc86-6800-41db-8149-249ca4b6263f",
   "metadata": {},
   "outputs": [],
   "source": [
    "evacuation = FireEvacuation(floor_size = 12,\n",
    "        human_count = 50,\n",
    "        alarm_believers_prop = 1.0,\n",
    "        max_speed = 3,\n",
    "        cooperation_mean = 0.3,\n",
    "        nervousness_mean = 0.3,\n",
    "        seed = 1)\n",
    "run_model(evacuation, steps = [10,1,1,1,10])"
   ]
  },
  {
   "cell_type": "markdown",
   "id": "243a38e2-598d-4fe5-bb23-eded562aa59a",
   "metadata": {},
   "source": [
    "Describe your findings here:"
   ]
  }
 ],
 "metadata": {
  "kernelspec": {
   "display_name": "abmodel1",
   "language": "python",
   "name": "abmodel1"
  },
  "language_info": {
   "codemirror_mode": {
    "name": "ipython",
    "version": 3
   },
   "file_extension": ".py",
   "mimetype": "text/x-python",
   "name": "python",
   "nbconvert_exporter": "python",
   "pygments_lexer": "ipython3",
   "version": "3.10.12"
  }
 },
 "nbformat": 4,
 "nbformat_minor": 5
}
