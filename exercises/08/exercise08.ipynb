{
 "cells": [
  {
   "cell_type": "markdown",
   "id": "e61544e8-8ed9-4718-9edc-a21c11061698",
   "metadata": {},
   "source": [
    "# Exercise 08"
   ]
  },
  {
   "cell_type": "markdown",
   "id": "864c6dbc-66ce-4bbc-bd02-cda95d259dd0",
   "metadata": {},
   "source": [
    "## Changes to the Evacuation Model\n",
    "\n",
    "To enable exercises about sensing and interaction, the evacuation model has been modified:\n",
    "\n",
    "* Bug fix in `agent.cooperate` (not turning if there is not more than one other agent in the room)\n",
    "* New model and agent parameter `maxsight`\n",
    "* Changes in `agent.explore_fieldofvision` to consider `maxsight`\n",
    "* New switch `DISTANCE_NOISE` to add noise to the calculation of distances to exits (`* self.model.rng.normal(loc=1.0, scale=2.0)`)\n",
    "* New model parameters `interact_neumann2`, `interact_moore2` and `interact_swnetwork` and agent parameter `interactionmatrix` (combining the three before-mentioned), which indicate the probability of passing alarm message via the particular topology.\n",
    "* When one of `interact_neumann2`, `interact_moore2` and `interact_swnetwork` is not `None` initially only one agent knows about the alarm.\n",
    "* With a probabilty of 0.1 each agent who is not alarmed gets alarmed (otherwise the room would never be evacuated if an agent is not informed).\n",
    "* Adding `net.NetworkGrid`"
   ]
  },
  {
   "cell_type": "markdown",
   "id": "bbf41006-01dc-4682-8d2e-7b91a471eadb",
   "metadata": {},
   "source": [
    "## Evaluation Code\n"
   ]
  },
  {
   "cell_type": "code",
   "execution_count": null,
   "id": "9d681017-1438-4b14-9e74-aefa05c6f82f",
   "metadata": {
    "tags": []
   },
   "outputs": [],
   "source": [
    "from mesa.batchrunner import batch_run\n",
    "import matplotlib.pyplot as plt\n",
    "import pandas as pd\n",
    "import numpy as np\n",
    "from matplotlib.colors import LinearSegmentedColormap\n",
    "\n",
    "import sys\n",
    "sys.path.insert(0,'../../abmodel')\n",
    "\n",
    "from fire_evacuation.model import FireEvacuation\n",
    "from fire_evacuation.agent import Human\n",
    "\n",
    "\n",
    "unikcolors = [np.array((80,149,200))/255, np.array((74,172,150))/255,\n",
    "                                                  np.array((234,195,114))/255, np.array((199,16,92))/255]\n",
    "uniks = LinearSegmentedColormap.from_list( 'unik', unikcolors)\n",
    "\n",
    "%matplotlib inline"
   ]
  },
  {
   "cell_type": "markdown",
   "id": "315f37d7-5b75-49f5-8096-091974807f0d",
   "metadata": {},
   "source": [
    "# Task 2 (Sensing in the evacuation model)"
   ]
  },
  {
   "cell_type": "markdown",
   "id": "024817c6-6bdd-48ea-bace-50396aaae1c6",
   "metadata": {},
   "source": [
    "## Subtask 2.2\n",
    "\n",
    "We can change an agents sensing by limiting the field of vision, which is applied when agents search for exits and others to help. Explore the model's sensitivity towards the `maxsight` parameter with batch runs. Produce a figure (consult e.g. exercise 07 task 2.4) showing final values of `TurnCount` and `Step` for increasing values of `maxsight`. Also conduct further simulations with a higher proportion (e.g. 0.5) of agents _not_ believing alarm. Discuss (i.e. contextualise, compare and explain your observations) the results. (<200 words)"
   ]
  },
  {
   "cell_type": "code",
   "execution_count": null,
   "id": "72a316b3-4afa-4797-87ac-7611ebbe6307",
   "metadata": {
    "tags": []
   },
   "outputs": [],
   "source": [
    "params = dict(\n",
    "    floor_size=14,\n",
    "    human_count=100,\n",
    "    nervousness_mean = 0.3,\n",
    "    alarm_believers_prop=0.9,\n",
    "    maxsight = {2,4,6,8,10,12,14,16},\n",
    "    seed = range(0,20),\n",
    ")\n",
    "\n",
    "results = batch_run(\n",
    "        FireEvacuation,\n",
    "        parameters=params,\n",
    "        data_collection_period = 1,\n",
    "        iterations = 1,\n",
    "        max_steps = 500,\n",
    ")"
   ]
  },
  {
   "cell_type": "code",
   "execution_count": null,
   "id": "3adde4c2-ff3c-442d-82a9-5eabeb33ea66",
   "metadata": {},
   "outputs": [],
   "source": [
    "data1 = pd.DataFrame(results)[['maxsight', \"TurnCount\", 'Step', 'seed']].round(decimals=1)\n",
    "db1 = data1.groupby(['seed','maxsight']).agg(\"max\").groupby(['maxsight']).agg(\"mean\")\n",
    "db1"
   ]
  },
  {
   "cell_type": "code",
   "execution_count": null,
   "id": "f057876d-73a3-4a0f-9c7d-8f6d61029ae9",
   "metadata": {
    "tags": []
   },
   "outputs": [],
   "source": [
    "# Some hints to produce a comparison figure\n",
    "\n",
    "# remove columns not needed\n",
    "d_sw.drop([\"interact_moore\", \"interact_neumann\"], axis=1, inplace=True)\n",
    "\n",
    "# rename column to align it to other frames\n",
    "d_sw.rename(columns={\"interact_swnetwork\": \"interact\"}, inplace=True)\n",
    "\n",
    "# merge DataFrames on 'column' using union of keys from both frames \n",
    "plotdata = pd.merge(df1, df2, how='outer', on='column', suffixes=(\"_df1\", \"_df2\"))\n",
    "\n",
    "# define a column as index (for x-axis of plot)\n",
    "plotdata.set_index('column', inplace=True)"
   ]
  },
  {
   "cell_type": "markdown",
   "id": "aadd7c17-1016-4930-af05-e3d0a066b810",
   "metadata": {},
   "source": [
    "## Subtask 2.3\n",
    "\n",
    "Sensing is often not 100% accurate - uncertainty is involved. A way to represent uncertainty in agent-based modelling is to introduce noise - a random factor that reduces accuracy of the perceived value. Implement random noise for sensing the distance between the agent and a certain exit. Use the (existing) switch to enable/disable noise and define a parameter to calibrate the level of noise. Consider agent heterogeneity! Test your implementation. Does it change results significantly (t-test)?"
   ]
  },
  {
   "cell_type": "code",
   "execution_count": null,
   "id": "19da95de-b4fa-45cd-a3cc-87599a7040fd",
   "metadata": {
    "tags": []
   },
   "outputs": [],
   "source": [
    "from IPython.utils import io\n",
    "        \n",
    "params = dict(\n",
    "    floor_size=14,\n",
    "    human_count=70,\n",
    "    nervousness_mean = 0.3,\n",
    "    distancenoise = {False,True},\n",
    "    distancenoiselevel = 0.4,\n",
    "    seed = range(100,120),\n",
    ")\n",
    "\n",
    "results = batch_run(\n",
    "        FireEvacuation,\n",
    "        parameters=params,\n",
    "        data_collection_period = 1,\n",
    "        iterations = 1,\n",
    "        max_steps = 500,\n",
    "    )\n",
    "data = pd.DataFrame(results)[['distancenoise', 'Step', 'seed']].round(decimals=1)\n",
    "db = data.groupby(['seed','distancenoise']).agg(\"max\").groupby(['distancenoise']).agg(\"mean\").reset_index()"
   ]
  },
  {
   "cell_type": "markdown",
   "id": "676c1f66-4198-4935-a362-6705a6e4aaa2",
   "metadata": {
    "tags": []
   },
   "source": [
    "## Subtask 2.4\n",
    "\n",
    "Find two more processes of agents' sensing that could be modelled with uncertainty. How would you introduce uncertainty (provide pseudo code)? Discuss whether you should add this option to the model code (<200 words)!"
   ]
  },
  {
   "cell_type": "markdown",
   "id": "a5a6539e-377f-46d9-908f-abf06beaa1f6",
   "metadata": {},
   "source": [
    "# Task 3 (Interaction in the evacuation model)\n",
    "\n",
    "## Subtask 3.1\n",
    "\n",
    "A new option was added to the model: Assume the fire alarm is broken or not existing, and a single randomly choosen agent gets aware of an incident in the room that requires all to escape. We investigate different ways of interaction in terms of passing the information of fire alarm:\n",
    "\n",
    "* Propagation in the von-Neumann-neighbourhood \n",
    "* Propagation in the Moore-Neighbourhood \n",
    "* Propagation on a Small-World-Network (Watts-Beta) \n",
    "\n",
    "The model parameters determine the probability by which the information is \tpassed from an informed agent to its neighbours on the particular topology.\n",
    "Execute the code blocks in the notebook and compare the results in a figure (!) and interprete them! For small-world networks, why is the <ins>difference</ins> between low values of \tpropagation probability higher than for higher values of the probability?"
   ]
  },
  {
   "cell_type": "code",
   "execution_count": null,
   "id": "d433ca11-75e5-4a91-b37d-e6d0620d02ac",
   "metadata": {
    "tags": []
   },
   "outputs": [],
   "source": [
    "# Von Neumann:   \n",
    "params = dict(\n",
    "    floor_size=14,\n",
    "    human_count=100,\n",
    "    nervousness_mean = 0.3,\n",
    "    cooperation_mean = 0.1,\n",
    "    interact_neumann = {0.01,0.02,0.05,0.1,0.5,1.0},\n",
    "    interact_moore = 0.0,\n",
    "    interact_swnetwork = 0.0,\n",
    "    seed = range(0,30),\n",
    ")\n",
    "\n",
    "results = batch_run(\n",
    "        FireEvacuation,\n",
    "        parameters=params,\n",
    "        data_collection_period = 1,\n",
    "        iterations = 1,\n",
    "        max_steps = 500,\n",
    "    )\n",
    "data_vn = pd.DataFrame(results)[['interact_neumann', 'interact_moore','interact_swnetwork',\n",
    "                              'Step', 'TurnCount', 'seed']].round(decimals=2)\n",
    "db_vn = data_vn.groupby(['seed','interact_neumann','interact_moore','interact_swnetwork',]).agg(\"max\").\\\n",
    "        groupby(['interact_neumann','interact_moore','interact_swnetwork']).agg(\"mean\")\n",
    "db_vn"
   ]
  },
  {
   "cell_type": "code",
   "execution_count": null,
   "id": "15ddf26f-6d6f-471f-84f7-36c4b76d7b40",
   "metadata": {
    "tags": []
   },
   "outputs": [],
   "source": [
    "# Moore:\n",
    "params = dict(\n",
    "    floor_size=14,\n",
    "    human_count=100,\n",
    "    nervousness_mean = 0.3,\n",
    "    cooperation_mean = 0.1,\n",
    "    interact_neumann = 0.0,\n",
    "    interact_moore = {0.01,0.02,0.05,0.1,0.5,1.0},\n",
    "    interact_swnetwork = 0.0,\n",
    "    seed = range(0,30),\n",
    ")\n",
    "\n",
    "results = batch_run(\n",
    "        FireEvacuation,\n",
    "        parameters=params,\n",
    "        data_collection_period = 1,\n",
    "        iterations = 1,\n",
    "        max_steps = 500,\n",
    "    )\n",
    "data_mo = pd.DataFrame(results)[['interact_neumann', 'interact_moore','interact_swnetwork',\n",
    "                              'Step', 'TurnCount', 'seed']].round(decimals=2)\n",
    "db_mo = data_mo.groupby(['seed','interact_neumann','interact_moore','interact_swnetwork',]).agg(\"max\").\\\n",
    "        groupby(['interact_neumann','interact_moore','interact_swnetwork']).agg(\"mean\")\n",
    "db_mo"
   ]
  },
  {
   "cell_type": "code",
   "execution_count": null,
   "id": "7a2fe734-9553-4e7d-8112-8abe56e28c62",
   "metadata": {
    "tags": []
   },
   "outputs": [],
   "source": [
    "# Small-world network:\n",
    "params = dict(\n",
    "    floor_size=14,\n",
    "    human_count=100,\n",
    "    nervousness_mean = 0.3,\n",
    "    cooperation_mean = 0.3,\n",
    "    interact_neumann = 0.0,\n",
    "    interact_moore = 0.0,\n",
    "    interact_swnetwork = {0.01,0.02,0.05,0.1,0.5,1.0},\n",
    "    seed = range(0,30),\n",
    ")\n",
    "\n",
    "results = batch_run(\n",
    "        FireEvacuation,\n",
    "        parameters=params,\n",
    "        data_collection_period = 1,\n",
    "        iterations = 1,\n",
    "        max_steps = 500,\n",
    "    )\n",
    "\n",
    "data_sw = pd.DataFrame(results)[['interact_neumann', 'interact_moore','interact_swnetwork', \n",
    "                              'Step', 'TurnCount', 'seed']].round(decimals=2)\n",
    "db_sw = data_sw.groupby(['seed','interact_neumann','interact_moore','interact_swnetwork',]).agg(\"max\").\\\n",
    "        groupby(['interact_neumann','interact_moore','interact_swnetwork']).agg(\"mean\")\n",
    "db_sw"
   ]
  },
  {
   "cell_type": "code",
   "execution_count": null,
   "id": "054d1697-d842-4581-90b4-a65db3ecd372",
   "metadata": {},
   "outputs": [],
   "source": [
    "# Some hints to produce a figure\n",
    "\n",
    "# remove columns not needed\n",
    "d_sw.drop([\"interact_moore\", \"interact_neumann\"], axis=1, inplace=True)\n",
    "\n",
    "# rename column to align it to other frames\n",
    "d_sw.rename(columns={\"interact_swnetwork\": \"interact\"}, inplace=True)\n",
    "\n",
    "# merge DataFrames on 'column' using union of keys from both frames \n",
    "plotdata = pd.merge(df1, df2, how='outer', on='column', suffixes=(\"_df1\", \"_df2\"))\n",
    "\n",
    "# define a column as index (for x-axis of plot)\n",
    "plotdata.set_index('column', inplace=True)"
   ]
  },
  {
   "cell_type": "markdown",
   "id": "54c26fad-64bc-4ecc-ad56-1f97ff725c24",
   "metadata": {},
   "source": [
    "## Subtask 3.2\n",
    "\n",
    "Which initial position would be ideal for each single interaction topology (vonNeumann, Moore, Network)? Format your answer either as list or table."
   ]
  },
  {
   "cell_type": "markdown",
   "id": "718c3066-528a-4fe2-8a1c-074a6beffa98",
   "metadata": {},
   "source": [
    "## Subtask 3.3\n",
    "\n",
    "Implement placing the initial knowing agent at a beneficial position for propagation on the smallworld-network. Consider [this answer](https://stackoverflow.com/a/58392749/3957413)!\n",
    "\n",
    "First describe your idea here in pseudo code, then implement in model.py at line 342ff. Copy and re-run the last part of 3.1 (values for `interact_swnetwork`)."
   ]
  },
  {
   "cell_type": "code",
   "execution_count": null,
   "id": "a03e3883-8256-455f-b1a9-2e36a44e15a1",
   "metadata": {},
   "outputs": [],
   "source": []
  }
 ],
 "metadata": {
  "kernelspec": {
   "display_name": "Python 3 (ipykernel)",
   "language": "python",
   "name": "python3"
  },
  "language_info": {
   "codemirror_mode": {
    "name": "ipython",
    "version": 3
   },
   "file_extension": ".py",
   "mimetype": "text/x-python",
   "name": "python",
   "nbconvert_exporter": "python",
   "pygments_lexer": "ipython3",
   "version": "3.10.12"
  }
 },
 "nbformat": 4,
 "nbformat_minor": 5
}
