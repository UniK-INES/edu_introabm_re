{
 "cells": [
  {
   "cell_type": "markdown",
   "id": "e61544e8-8ed9-4718-9edc-a21c11061698",
   "metadata": {},
   "source": [
    "# Exercise 10"
   ]
  },
  {
   "cell_type": "markdown",
   "id": "8cf9a2fb-c95d-4c9f-a6b4-3a6aa0edc9cc",
   "metadata": {},
   "source": [
    "## Changes to the model\n",
    "\n",
    "* For `seed_placement`, `seed_orientation`, or `seed_propagate`, in case they are not given or `None` they are assigned the value of `seed`.\n",
    "* Tests folder was added including agent unit tests."
   ]
  },
  {
   "cell_type": "markdown",
   "id": "315f37d7-5b75-49f5-8096-091974807f0d",
   "metadata": {},
   "source": [
    "# Task 2 (Unit Testing)\n",
    "\n",
    "Unit tests are an important method to ensure the correctness of a computer model. Automatic tests help developers to maintain correctness while implementing changes to the model.\n",
    "\n",
    "For the evacuation model, an examplary test was implemented for the agents' `help()` method in `tests.test_agents.py`. As environment, two specific agents are required which needed to be added to the grid. The following command executes the tests as it would be done on the command line:"
   ]
  },
  {
   "cell_type": "code",
   "execution_count": null,
   "id": "b2045ee8-5ce8-4203-b314-956ad8df51c9",
   "metadata": {},
   "outputs": [],
   "source": [
    "%%bash\n",
    "echo \"For Linux only\"\n",
    "export PYTHONPATH=\"$${PYTHONPATH}:../../abmodel\"\n",
    "python -m unittest fire_evacuation.tests.test_agent_help"
   ]
  },
  {
   "cell_type": "code",
   "execution_count": null,
   "id": "d0370697-0f79-49c7-9165-6a2326e3c7d0",
   "metadata": {},
   "outputs": [],
   "source": [
    "%%cmd\n",
    "echo \"For Windows onyl:\"\n",
    "set PYTHONPATH=%PYTHONPATH%;../../abmodel\n",
    "python -m unittest fire_evacuation.tests.test_agent_help"
   ]
  },
  {
   "cell_type": "markdown",
   "id": "232dbe8d-188c-40f9-b32c-ffcda587c5af",
   "metadata": {},
   "source": [
    "More information about unittests can be obtained from https://docs.python.org/3/library/unittest.html. A good and complete tutorial on testing is on https://realpython.com/python-testing/."
   ]
  },
  {
   "cell_type": "markdown",
   "id": "299794f2-0bd7-412b-8f9e-968b7452f0c7",
   "metadata": {},
   "source": [
    "## Subtask 2 (Testing Agent behaviour)\n",
    "\n",
    "Implement a unit test for agent's update nervousness method in `test_agent_nervousness.py`. Test each of the if cases!\n",
    "\n",
    "Use `self.agent.getCrowdLevel = mock.Mock(return_value=your_value)` to have the `getCrowdLevel()` method return a defined value (see https://docs.python.org/3/library/unittest.mock.html for mroe information).\n",
    "\n",
    "Execute the following cell to see if the test passes:"
   ]
  },
  {
   "cell_type": "code",
   "execution_count": null,
   "id": "5d7f2ee6-98b7-4de3-bef8-31a01350e072",
   "metadata": {},
   "outputs": [],
   "source": [
    "%%bash\n",
    "echo \"For Linux only\"\n",
    "export PYTHONPATH=\"$${PYTHONPATH}:../../abmodel\"\n",
    "python -m unittest fire_evacuation.tests.test_agent_nervousness"
   ]
  },
  {
   "cell_type": "code",
   "execution_count": null,
   "id": "de7f5326-7c83-4245-a253-c0c2a795bfcd",
   "metadata": {},
   "outputs": [],
   "source": [
    "%%cmd\n",
    "echo \"For Windows onyl:\"\n",
    "set PYTHONPATH=%PYTHONPATH%;../../abmodel\n",
    "python -m unittest fire_evacuation.tests.test_agent_help"
   ]
  },
  {
   "cell_type": "markdown",
   "id": "3b4cd9f4-33e8-403b-955b-e5f10dede4e4",
   "metadata": {},
   "source": [
    "## Subtask 3 (Further testing)\n",
    "\n",
    "Think about other aspects to test in the evacuation model (at least three). Which model behaviour should be tested? What environment is required to test this? Format your answer as a table."
   ]
  },
  {
   "cell_type": "markdown",
   "id": "aadd7c17-1016-4930-af05-e3d0a066b810",
   "metadata": {},
   "source": [
    "# Task 3 (Replication)\n",
    "\n",
    "\n",
    "## Subtask 1 (Challenges of Replication)\n",
    "\n",
    "Read the following paper and answer the three questions in a **tabular form** (discuss at least **three** obstacles for replication):\n",
    "\n",
    "Thiele, J. C. & Grimm, V.\n",
    "Replicating and breaking models: good for you and good for ecology. Oikos, Wiley, 2015, 124, 691-696.\n",
    "https://doi.org/10.1111/oik.02170\n",
    "\n",
    "\n",
    "* What hinders model replication and robustness analysis (obstacles)?\n",
    "* Why is this problematic (problems)?\n",
    "* How can modellers overcome this situation (solutions)?\n"
   ]
  },
  {
   "cell_type": "markdown",
   "id": "e28669a4-b5f3-4534-90a7-bfa01773c431",
   "metadata": {},
   "source": [
    "## Subtask 2 (Replication and ODD)\n",
    "\n",
    "Why help ODD protocols to conduct replications? List at least three benefits!"
   ]
  }
 ],
 "metadata": {
  "kernelspec": {
   "display_name": "Python 3 (ipykernel)",
   "language": "python",
   "name": "python3"
  },
  "language_info": {
   "codemirror_mode": {
    "name": "ipython",
    "version": 3
   },
   "file_extension": ".py",
   "mimetype": "text/x-python",
   "name": "python",
   "nbconvert_exporter": "python",
   "pygments_lexer": "ipython3",
   "version": "3.10.12"
  },
  "toc-showcode": false
 },
 "nbformat": 4,
 "nbformat_minor": 5
}
