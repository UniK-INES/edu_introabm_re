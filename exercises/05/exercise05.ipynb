{
 "cells": [
  {
   "cell_type": "markdown",
   "metadata": {},
   "source": [
    "# Exercise 05"
   ]
  },
  {
   "cell_type": "markdown",
   "metadata": {
    "tags": []
   },
   "source": [
    "## Demographic Prisoner's Dilemma\n",
    "\n",
    "The Demographic Prisoner's Dilemma is a family of variants on the classic two-player [Prisoner's Dilemma](https://en.wikipedia.org/wiki/Prisoner's_dilemma), first developed by [Joshua Epstein](http://citeseerx.ist.psu.edu/viewdoc/download?doi=10.1.1.8.8629&rep=rep1&type=pdf). The model consists of agents, each with a strategy of either Cooperate or Defect, playing against each neighbour in the Moore-neighbourhood. Each agent's payoff is based on its strategy and the strategies of its spatial neighbors. After each step of the model, the agents adopt the strategy of their neighbor (or their own) with the highest total score. \n",
    "\n",
    "The specific variant presented here is adapted from the [Evolutionary Prisoner's Dilemma](http://ccl.northwestern.edu/netlogo/models/Prisoner'sDilemmaBasicEvolutionary) model included with NetLogo. Its payoff table is a slight variant of the traditional PD payoff table:\n",
    "\n",
    "<table>\n",
    "    <tr><td></td><td>Cooperate</td><td>Defect</td></tr>\n",
    "    <tr><td>Cooperate</td><td>1, 1</td><td>0, D</td></tr>\n",
    "    <tr><td>Defect</td><td>D, 0</td><td>0, 0</td></tr>\n",
    "</table>\n",
    "\n",
    "Where *D* is the defection bonus, generally set higher than 1. In these runs, the defection bonus is set to $D=1.6$.\n",
    "\n",
    "The Demographic Prisoner's Dilemma demonstrates how simple rules can lead to the emergence of widespread cooperation, despite the Defection strategy dominating each individual interaction game. However, it is also interesting for another reason: it is known to be sensitive to the activation regime employed in it.\n",
    "\n",
    "Below, we demonstrate this by instantiating the same model (with the same random seed) three times, with three different activation regimes: \n",
    "\n",
    "* Sequential activation, where agents are activated in the order they were added to the model;\n",
    "* Random activation, where they are activated in random order every step;\n",
    "* Simultaneous activation, simulating them all being activated simultaneously.\n",
    "\n"
   ]
  },
  {
   "cell_type": "code",
   "execution_count": null,
   "metadata": {
    "tags": []
   },
   "outputs": [],
   "source": [
    "import sys\n",
    "sys.path.insert(0,'task02/pd_grid')\n",
    "from pd_grid.model import PdGrid\n",
    "\n",
    "import numpy as np\n",
    "import pandas as pd\n",
    "import matplotlib.pyplot as plt\n",
    "import matplotlib.gridspec\n",
    "from matplotlib.colors import LinearSegmentedColormap\n",
    "from mesa.visualization import show_logs, freeze_logs\n",
    "\n",
    "%matplotlib inline\n",
    "matplotlib.rcParams['font.size'] = 12"
   ]
  },
  {
   "cell_type": "markdown",
   "metadata": {
    "tags": []
   },
   "source": [
    "## Helper functions"
   ]
  },
  {
   "cell_type": "code",
   "execution_count": null,
   "metadata": {
    "jupyter": {
     "source_hidden": true
    },
    "tags": []
   },
   "outputs": [],
   "source": [
    "uniks = LinearSegmentedColormap.from_list( 'unik', [np.array((80,149,200))/255, np.array((74,172,150))/255,\n",
    "                                                  np.array((234,195,114))/255, np.array((199,16,92))/255])\n",
    "\n",
    "def draw_grid(model, ax=None):\n",
    "    \"\"\"\n",
    "    Draw the current state of the grid, with Defecting agents in red\n",
    "    and Cooperating agents in blue.\n",
    "    \"\"\"\n",
    "    if not ax:\n",
    "        fig, ax = plt.subplots(figsize=(6, 6))\n",
    "    grid = np.zeros((model.grid.width, model.grid.height))\n",
    "    for agent, (x, y) in model.grid.coord_iter():\n",
    "        if agent.move == \"D\":\n",
    "            grid[y][x] = 1\n",
    "        else:\n",
    "            grid[y][x] = 0\n",
    "    ax.pcolormesh(grid, cmap=uniks, vmin=0, vmax=1)\n",
    "    ax.axis(\"off\")\n",
    "    ax.set_title(\"Steps: {}\".format(model.schedule.steps))"
   ]
  },
  {
   "cell_type": "code",
   "execution_count": null,
   "metadata": {
    "jupyter": {
     "source_hidden": true
    },
    "tags": []
   },
   "outputs": [],
   "source": [
    "def draw_score_grid(model, ax=None, minvalue=None, maxvalue=None):\n",
    "    \"\"\"\n",
    "    Draw the current state of the grid, with Defecting agents in red\n",
    "    and Cooperating agents in blue.\n",
    "    \"\"\"\n",
    "    if maxvalue == None:\n",
    "        maxvalue = max(model.schedule.agents, key=lambda agent: agent.score).score\n",
    "    if minvalue == None:\n",
    "        minvalue = min(model.schedule.agents, key=lambda agent: agent.score).score\n",
    "    if not ax:\n",
    "        fig, ax = plt.subplots(figsize=(6, 6))\n",
    "    grid = np.zeros((model.grid.width, model.grid.height))\n",
    "    for agent, (x, y) in model.grid.coord_iter():\n",
    "        grid[y][x] = agent.score\n",
    "    fig = ax.pcolormesh(grid, vmin=minvalue, vmax=maxvalue)\n",
    "    ax.axis(\"off\")\n",
    "    plt.colorbar(fig)\n",
    "    ax.set_title(\"Step: {}\".format(model.schedule.steps))"
   ]
  },
  {
   "cell_type": "code",
   "execution_count": null,
   "metadata": {
    "jupyter": {
     "source_hidden": true
    },
    "tags": []
   },
   "outputs": [],
   "source": [
    "def run_model(model, steps = [10,10,20,20,40], maxscorevalue = None):\n",
    "    \"\"\"\n",
    "    Run an experiment with a given model, and plot the results.\n",
    "    \"\"\"\n",
    "    fig = plt.figure(figsize=(12, 8))\n",
    "\n",
    "    for i in range(0, len(steps)):\n",
    "        draw_grid(model, fig.add_subplot(3, len(steps) + 1, i + 1 ))\n",
    "        draw_score_grid(model, fig.add_subplot(3, len(steps) + 1, i + 2 + len(steps)), maxvalue=maxscorevalue)\n",
    "        model.run(steps[i])\n",
    "        \n",
    "    draw_grid(model, fig.add_subplot(3, len(steps) + 1, i + 2 ))\n",
    "    draw_score_grid(model, fig.add_subplot(3, len(steps) + 1, i + 3 + len(steps)), maxvalue=maxscorevalue)\n",
    "    \n",
    "    ax = fig.add_subplot(3, 1, 3)\n",
    "\n",
    "    d = model.datacollector.get_model_vars_dataframe()\n",
    "    d = d * 100 / model.schedule.get_agent_count()\n",
    "    d.plot(ax=ax, colormap=uniks)\n",
    "    "
   ]
  },
  {
   "cell_type": "code",
   "execution_count": null,
   "metadata": {
    "jupyter": {
     "source_hidden": true
    },
    "tags": []
   },
   "outputs": [],
   "source": [
    "def compare_runs(models):\n",
    "    data = pd.DataFrame()\n",
    "    for model in models:\n",
    "        modeldata = model.datacollector.get_model_vars_dataframe() * 100 / model.schedule.get_agent_count()\n",
    "        modeldata.columns = [model.schedule_type]\n",
    "        data = pd.concat([data, modeldata],axis=1)\n",
    "        \n",
    "    fig = plt.figure(figsize=(12, 8))\n",
    "    ax1 = fig.add_subplot(111)\n",
    "    data.plot(ax=ax1, colormap=uniks)\n",
    "    fig.savefig(\"dpd_compare.png\")"
   ]
  },
  {
   "cell_type": "markdown",
   "metadata": {
    "tags": []
   },
   "source": [
    "## Subtask 2.2\n",
    "\n",
    "Explain the different evolution of cooperators for random and simultaneous activation schemes by exploring the warm-up phase. Why does for some random seeds the number of cooperators go down before it raises, but not for sequential? (< 300 words)"
   ]
  },
  {
   "cell_type": "markdown",
   "metadata": {},
   "source": [
    "#### Run DPD in browser"
   ]
  },
  {
   "cell_type": "code",
   "execution_count": null,
   "metadata": {
    "tags": []
   },
   "outputs": [],
   "source": [
    "from app import page\n",
    "page"
   ]
  },
  {
   "cell_type": "markdown",
   "metadata": {
    "tags": []
   },
   "source": [
    "### Warm-up: Random activation\n",
    "\n",
    "Passing `printneighbourscore=True` to model initialisation prints score and `printneighbourorder=True` prints move information about the focal (passing `focalpos=(0,0)`) agents' neighbours. The order of neighbours is row-wise (eg. starting with upper left, then upper middle, upper right, middle left aso.)"
   ]
  },
  {
   "cell_type": "code",
   "execution_count": null,
   "metadata": {},
   "outputs": [],
   "source": [
    "show_logs(\"DPD\")\n",
    "m_random = PdGrid(10, 10, \"Random\", seed=25)\n",
    "run_model(m_random, steps = [1,1,1,1,1,10])\n",
    "freeze_logs(\"DPD\")"
   ]
  },
  {
   "cell_type": "markdown",
   "metadata": {},
   "source": [
    "### Warm-up: Simultaneous Activation"
   ]
  },
  {
   "cell_type": "code",
   "execution_count": null,
   "metadata": {},
   "outputs": [],
   "source": [
    "show_logs(\"DPD\")\n",
    "m_simultaneous = PdGrid(10, 10, \"Simultaneous\", seed=25)\n",
    "run_model(m_simultaneous, steps = [1,1,1,1,1])\n",
    "freeze_logs(\"DPD\")"
   ]
  },
  {
   "cell_type": "markdown",
   "metadata": {},
   "source": [
    "### Compare runs"
   ]
  },
  {
   "cell_type": "code",
   "execution_count": null,
   "metadata": {},
   "outputs": [],
   "source": [
    "matplotlib.rcParams['font.size'] = 12\n",
    "compare_runs([m_random, m_simultaneous])"
   ]
  },
  {
   "cell_type": "markdown",
   "metadata": {
    "tags": []
   },
   "source": [
    "## Subtask 2.3"
   ]
  },
  {
   "cell_type": "markdown",
   "metadata": {},
   "source": [
    "**Discuss the different activation schemes in light of possible model purposes in general and in particular to the DPD. Which one would you chose, and which not (<200 words)?**"
   ]
  },
  {
   "cell_type": "markdown",
   "metadata": {},
   "source": [
    "## Subtask 3.1\n",
    "**Make yourself familiar with running batch runs with the Evacuation model (remember the [mesa tutorial](https://mesa.readthedocs.io/en/latest/tutorials/intro_tutorial.html#batch-run)). Why is the `iterations` parameter important?**"
   ]
  },
  {
   "cell_type": "markdown",
   "metadata": {},
   "source": [
    "## Subtask 3.2\n",
    "\n",
    "**Conduct batch runs with variations in `cooperation_mean` and `nervousness_mean` and analyse and discuss the results by adopting the provided code in the jupyter notebook. What effect has an extension of the seed-range, e.g. to`range(1,100)`? Which important statistics formula is relevant (<200 words)?**"
   ]
  },
  {
   "cell_type": "code",
   "execution_count": null,
   "metadata": {},
   "outputs": [],
   "source": [
    "from mesa.batchrunner import batch_run\n",
    "from mesa.visualization import show_logs, freeze_logs\n",
    "import matplotlib.pyplot as plt\n",
    "import pandas as pd\n",
    "import numpy as np\n",
    "import sys\n",
    "sys.path.insert(0,'../../abmodel')\n",
    "\n",
    "from fire_evacuation.model import FireEvacuation\n",
    "from fire_evacuation.agent import Human"
   ]
  },
  {
   "cell_type": "markdown",
   "metadata": {},
   "source": [
    "Note that the simulation may take a few minutes to terminate!"
   ]
  },
  {
   "cell_type": "code",
   "execution_count": null,
   "metadata": {},
   "outputs": [],
   "source": [
    "from IPython.utils import io\n",
    "        \n",
    "params = dict(\n",
    "    floor_size=10,\n",
    "    human_count=40,\n",
    "    alarm_believers_prop = 1.0,\n",
    "    cooperation_mean = np.arange(0.1,0.7,0.1),\n",
    "    nervousness_mean = np.arange(0.1,0.7,0.1),\n",
    "    seed = range(1,10),\n",
    ")\n",
    "\n",
    "with io.capture_output() as captured:\n",
    "    show_logs(\"FireEvacuation\")\n",
    "    results = # implement batch_run() here\n",
    "    freeze_logs(\"FireEvacuation\")"
   ]
  },
  {
   "cell_type": "code",
   "execution_count": null,
   "metadata": {},
   "outputs": [],
   "source": [
    "pd.DataFrame(results)"
   ]
  },
  {
   "cell_type": "code",
   "execution_count": null,
   "metadata": {},
   "outputs": [],
   "source": [
    "data = pd.DataFrame(results)[['cooperation_mean', 'nervousness_mean','Step']].round(decimals=1)\n",
    "df = data.groupby(['cooperation_mean', 'nervousness_mean']).agg(\"mean\")\n",
    "plot_df = (df.reset_index()\n",
    "              .pivot(index='cooperation_mean', columns='nervousness_mean'))\n",
    "\n",
    "fig, ax = plt.subplots()\n",
    "im = ax.imshow(plot_df)\n",
    "plt.colorbar(im)\n",
    "plt.xlabel('nervousness_mean')\n",
    "plt.ylabel('cooperation_mean')\n",
    "plt.title(\"Duration of escape\")\n",
    "ax.set_xticks(np.arange(plot_df.shape[1]))\n",
    "ax.set_xticklabels(sorted(set(round(data['nervousness_mean'], ndigits=1))))\n",
    "ax.set_yticks(np.arange(plot_df.shape[0]))\n",
    "ax.set_yticklabels(plot_df.index)\n",
    "None"
   ]
  },
  {
   "cell_type": "markdown",
   "metadata": {},
   "source": [
    "## Subtask 3.3\n",
    "\n",
    "**Formulate a plausible numerical definition of a panic during the evacuation. Consider the proportion of escaped individuals and time. Can you change the output of batch_run to check your criteria (you don’t have t implement this, but your’re free to do so)?**"
   ]
  },
  {
   "cell_type": "markdown",
   "metadata": {},
   "source": [
    "## Subtask 3.4\n",
    "\n",
    "**Discuss whether your notion of panic fulfils the criteria for an emergent phenomenon or whether it is imposed.**"
   ]
  },
  {
   "cell_type": "code",
   "execution_count": null,
   "metadata": {},
   "outputs": [],
   "source": []
  }
 ],
 "metadata": {
  "kernelspec": {
   "display_name": "abmodel1",
   "language": "python",
   "name": "abmodel1"
  },
  "language_info": {
   "codemirror_mode": {
    "name": "ipython",
    "version": 3
   },
   "file_extension": ".py",
   "mimetype": "text/x-python",
   "name": "python",
   "nbconvert_exporter": "python",
   "pygments_lexer": "ipython3",
   "version": "3.10.12"
  }
 },
 "nbformat": 4,
 "nbformat_minor": 4
}
