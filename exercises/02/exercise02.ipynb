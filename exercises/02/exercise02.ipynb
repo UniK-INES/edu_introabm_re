{
 "cells": [
  {
   "cell_type": "markdown",
   "id": "5dad91b6-7b78-4033-8014-1b5f05b2cb43",
   "metadata": {},
   "source": [
    "# Exercise 02"
   ]
  },
  {
   "cell_type": "markdown",
   "id": "2fa00b06-6e3c-4f6e-8bbd-c0f4b7d2eadc",
   "metadata": {
    "tags": []
   },
   "source": [
    "# Task 02: Setting up the development environment\n",
    "\n",
    "After following instructions on the worksheet, execute the following python cell:"
   ]
  },
  {
   "cell_type": "code",
   "execution_count": null,
   "id": "34cf95e3-b6f7-4bc5-8b7a-e3a7bc4551b4",
   "metadata": {},
   "outputs": [],
   "source": [
    "import spyder\n",
    "import os, sys\n",
    "\n",
    "# check python version\n",
    "print(\"Python version: \", sys.version)\n",
    "\n",
    "# check spyder\n",
    "print(\"Spider version: \", spyder.__version__)\n",
    "\n",
    "# check git\n",
    "os.system('git --version')"
   ]
  },
  {
   "cell_type": "markdown",
   "id": "c3dcebf0-0366-4d32-bb0c-9f0c0c9ae47f",
   "metadata": {},
   "source": [
    "# Task 03: Mesa tutorial"
   ]
  },
  {
   "cell_type": "code",
   "execution_count": null,
   "id": "21efd75e-463b-4c45-a59b-b4eeacbc536a",
   "metadata": {},
   "outputs": [],
   "source": [
    "# Place the tutorial execution commands here:"
   ]
  }
 ],
 "metadata": {
  "kernelspec": {
   "display_name": "abmodel1",
   "language": "python",
   "name": "abmodel1"
  },
  "language_info": {
   "codemirror_mode": {
    "name": "ipython",
    "version": 3
   },
   "file_extension": ".py",
   "mimetype": "text/x-python",
   "name": "python",
   "nbconvert_exporter": "python",
   "pygments_lexer": "ipython3",
   "version": "3.10.12"
  }
 },
 "nbformat": 4,
 "nbformat_minor": 5
}
