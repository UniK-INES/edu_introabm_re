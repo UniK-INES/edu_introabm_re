{
 "cells": [
  {
   "cell_type": "markdown",
   "id": "30a49417-e3dd-48da-b6bc-f8f3d6b722c4",
   "metadata": {},
   "source": [
    "# Introduction to Mesa"
   ]
  },
  {
   "cell_type": "markdown",
   "id": "c390b453-cbf1-486d-a6bb-18f64d2f562b",
   "metadata": {
    "tags": []
   },
   "source": [
    "* [GitHub](https://github.com/projectmesa)\n",
    "* [API](https://mesa.readthedocs.io/en/latest/apis/api_main.html)\n",
    "* [Visualisation tutorial](https://mesa.readthedocs.io/en/latest/tutorials/visualization_tutorial.html)"
   ]
  },
  {
   "cell_type": "code",
   "execution_count": null,
   "id": "345f1d14-11b0-4f17-9dbf-dc4c6103c2ac",
   "metadata": {
    "tags": []
   },
   "outputs": [],
   "source": [
    "from mesa.experimental import JupyterViz\n",
    "from schelling.model import Schelling\n",
    "\n",
    "def agent_portrayal(agent):\n",
    "    return {\n",
    "        \"color\": \"tab:blue\",\n",
    "        \"size\": 50,\n",
    "    }\n",
    "\n",
    "model_params = {\n",
    "    \"homophily\": {\n",
    "        \"type\": \"SliderInt\",\n",
    "        \"value\": 3,\n",
    "        \"label\": \"Homophily trheshold:\",\n",
    "        \"min\": 0,\n",
    "        \"max\": 8,\n",
    "        \"step\": 1,\n",
    "    },\n",
    "    \"width\": 10,\n",
    "    \"height\": 10,\n",
    "}\n",
    "\n",
    "page = JupyterViz(\n",
    "    Schelling,\n",
    "    model_params,\n",
    "    measures=[\"happy\"],\n",
    "    name=\"Schelling Model\",\n",
    "    agent_portrayal=agent_portrayal,\n",
    ")\n",
    "# This is required to render the visualization in the Jupyter notebook\n",
    "page"
   ]
  },
  {
   "cell_type": "code",
   "execution_count": null,
   "id": "5e289b46-4f82-4025-a4b0-45448f8f3efc",
   "metadata": {},
   "outputs": [],
   "source": []
  }
 ],
 "metadata": {
  "kernelspec": {
   "display_name": "Python 3 (ipykernel)",
   "language": "python",
   "name": "python3"
  },
  "language_info": {
   "codemirror_mode": {
    "name": "ipython",
    "version": 3
   },
   "file_extension": ".py",
   "mimetype": "text/x-python",
   "name": "python",
   "nbconvert_exporter": "python",
   "pygments_lexer": "ipython3",
   "version": "3.10.12"
  }
 },
 "nbformat": 4,
 "nbformat_minor": 5
}
