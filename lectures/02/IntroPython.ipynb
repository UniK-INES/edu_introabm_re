{
 "cells": [
  {
   "cell_type": "markdown",
   "id": "eced38bf-c50b-4c24-9291-013d42226d44",
   "metadata": {},
   "source": [
    "# Introduction to python"
   ]
  },
  {
   "cell_type": "markdown",
   "id": "d8b59a78-5f70-452b-bd99-f7a4d5f3cda5",
   "metadata": {},
   "source": [
    "## Resources\n",
    "\n",
    "**Cheat-Sheets**\n",
    "\n",
    "* see folder `docs`\n",
    "\n",
    "**Python Reference**:\n",
    "\n",
    "* https://docs.python.org/3/reference\n",
    "* Help > Python reference"
   ]
  },
  {
   "cell_type": "markdown",
   "id": "957b4f73-2170-4247-847c-9da9bb6f384f",
   "metadata": {},
   "source": [
    "## Jupyter\n",
    "\n",
    "* Combine code and description\n",
    "* Text as markdown (see Help > Markdown reference)\n",
    "* Syntax highlighting for python code and execution\n",
    "* See Help > Jupyter reference\n",
    "* [Cheatsheet](https://www.edureka.co/blog/wp-content/uploads/2018/10/Jupyter_Notebook_CheatSheet_Edureka.pdf) available"
   ]
  },
  {
   "cell_type": "markdown",
   "id": "f5921f5d-8098-4c7d-836a-ee2de10f9c63",
   "metadata": {
    "tags": []
   },
   "source": [
    "## Comments"
   ]
  },
  {
   "cell_type": "code",
   "execution_count": 7,
   "id": "cf014030-08d0-4c05-99f3-4926617531fc",
   "metadata": {
    "tags": []
   },
   "outputs": [],
   "source": [
    "# A comment starts with a '#'\n",
    "\n",
    "'''\n",
    "This is a long\n",
    "comment across multiple lines.\n",
    "'''\n",
    "\n",
    "\"\"\"\n",
    "This is also considered a multiline\n",
    "comment.\n",
    "\"\"\"\n",
    "\n",
    "x = 1"
   ]
  },
  {
   "cell_type": "markdown",
   "id": "219e2861-6411-4930-a772-dde8e3895333",
   "metadata": {},
   "source": [
    "## Variables"
   ]
  },
  {
   "cell_type": "code",
   "execution_count": null,
   "id": "e88bf02d-3507-4dc7-aa23-f0c1f2b56900",
   "metadata": {},
   "outputs": [],
   "source": [
    "# naming rules\n",
    "agent_age = 0\n",
    "AgentAge = 0\n",
    "\n",
    "# constants\n",
    "ROOM_SIZE = 12"
   ]
  },
  {
   "cell_type": "markdown",
   "id": "6d4117b7-519f-44c9-9021-a6d95e5a2049",
   "metadata": {},
   "source": [
    "## Data types"
   ]
  },
  {
   "cell_type": "code",
   "execution_count": null,
   "id": "fdd95cf8-520c-4522-8be5-ad7a7018acea",
   "metadata": {},
   "outputs": [],
   "source": [
    "# boolean\n",
    "state_healthy = True\n",
    "\n",
    "# int\n",
    "age = 28\n",
    "\n",
    "#float\n",
    "height= 1.78\n",
    "\n",
    "# list\n",
    "neighbours = [\"agent7\", \"agent23\", \"agent42\"]\n",
    "\n",
    "# string\n",
    "name = \"Agent1\"\n",
    "\n",
    "#dictionary\n",
    "agent_colours = {\"hair\":\"grey\", \"eyes\": \"blue\", \"shoes\":\"black\"}\n",
    "agent_colours[\"hair\"]"
   ]
  },
  {
   "cell_type": "markdown",
   "id": "adfe6c04-ec78-4317-bea4-7d52c5288771",
   "metadata": {},
   "source": [
    "## Special values"
   ]
  },
  {
   "cell_type": "code",
   "execution_count": null,
   "id": "60ae897c-4b0c-4fc0-8301-3703a5f66853",
   "metadata": {},
   "outputs": [],
   "source": [
    "\n",
    "something = None\n",
    "number = float(\"NaN\") \n"
   ]
  },
  {
   "cell_type": "markdown",
   "id": "bec0314f-da8a-4dc8-80d0-b6e057fae122",
   "metadata": {},
   "source": [
    "## Conversion"
   ]
  },
  {
   "cell_type": "code",
   "execution_count": null,
   "id": "29b83fba-ea32-40ec-a92d-dfdae629c5e6",
   "metadata": {},
   "outputs": [],
   "source": [
    "number = int(\"42\")\n",
    "print(number * 2)\n",
    "print(\"42\" * 2)"
   ]
  },
  {
   "cell_type": "code",
   "execution_count": null,
   "id": "9c986ab4-ed36-4674-9b42-842fb4594828",
   "metadata": {},
   "outputs": [],
   "source": [
    "print(\"Number: \" + number)\n",
    "string = str(number)\n",
    "print(\"Number: \" + string)\n",
    "\n",
    "# meant to throw a TypeError - outcomment 1st line to avoid TypeError!"
   ]
  },
  {
   "cell_type": "markdown",
   "id": "20855204-35e9-41c9-90ef-c87e50707033",
   "metadata": {},
   "source": [
    "## Access Arrays"
   ]
  },
  {
   "cell_type": "code",
   "execution_count": null,
   "id": "30e60a67-d483-42d2-8044-c03db7ca91b8",
   "metadata": {},
   "outputs": [],
   "source": [
    "# index starting with 0!\n",
    "course = \"Intro to ABM\"\n",
    "print(course[0])"
   ]
  },
  {
   "cell_type": "code",
   "execution_count": null,
   "id": "eb2297f3-0eec-4dc0-a804-198c51801fed",
   "metadata": {},
   "outputs": [],
   "source": [
    "course[0:5]\n",
    "# range(5) goes from 0 to 4"
   ]
  },
  {
   "cell_type": "code",
   "execution_count": null,
   "id": "bc849631-a565-457d-b6b7-6a046874ba46",
   "metadata": {},
   "outputs": [],
   "source": [
    "course[0:3]\n"
   ]
  },
  {
   "cell_type": "markdown",
   "id": "fa8352c5-67a5-4ee5-bc78-b3551c145f5b",
   "metadata": {},
   "source": [
    "## Control structures"
   ]
  },
  {
   "cell_type": "code",
   "execution_count": null,
   "id": "ceba66bc-38e1-436e-b867-fca50e21c1ff",
   "metadata": {},
   "outputs": [],
   "source": [
    "# <-- No working code !!\n",
    "family = [\"father\", \"mother\", \"daugther\"]\n",
    "partner = \"daughter\"\n",
    "\n",
    "# if condition\n",
    "if partner in family:\n",
    "    partner.tellSecret()\n",
    "elif partner in neighbours:\n",
    "    partner.tellStory()\n",
    "else:\n",
    "    partner.tellLie()b\n",
    "\n",
    "# for loop    \n",
    "for partner in neighbours:\n",
    "    partner.ask()\n",
    "# No working code !! -->"
   ]
  },
  {
   "cell_type": "code",
   "execution_count": null,
   "id": "d8c16a40-4c73-47ec-b929-e6b447cc5c31",
   "metadata": {},
   "outputs": [],
   "source": [
    "family = [\"father\", \"mother\", \"daugther\"]\n",
    "\n",
    "# for loop    \n",
    "for partner in family:\n",
    "    character = partner[0]\n",
    "    print(character)"
   ]
  },
  {
   "cell_type": "code",
   "execution_count": null,
   "id": "8a8c77bb-4eb7-41c2-838b-1317c73f533d",
   "metadata": {},
   "outputs": [],
   "source": [
    "for i in range(5):\n",
    "    print(i)"
   ]
  },
  {
   "cell_type": "code",
   "execution_count": null,
   "id": "332984c3-71ba-4aa6-b088-b6eab12b2baf",
   "metadata": {},
   "outputs": [],
   "source": [
    "# while loop\n",
    "import random\n",
    "\n",
    "budget = 30\n",
    "while budget > 0:\n",
    "    spent = random.randrange(10)\n",
    "    print(\"Inital budget: \" + str(budget) + \" - \" + str(spent) + \" = \" + str(budget - spent))\n",
    "    budget = budget - spent\n",
    "    \n",
    "budget = 50\n",
    "while budget > 0:\n",
    "    spent = random.randrange(10)\n",
    "    print(\"Inital budget: \" + str(budget) + \" - \" + str(spent) + \" = \" + str(budget - spent))\n",
    "    budget -=spent"
   ]
  },
  {
   "cell_type": "code",
   "execution_count": null,
   "id": "5a171669-ddc5-41d2-8adc-f79a2dbbe1f5",
   "metadata": {},
   "outputs": [],
   "source": [
    "# <-- No working code !!\n",
    "    age_level = int(self.age_level[1:])\n",
    "    # Note update age from distribution like for landlords\n",
    "    if self.age is None:\n",
    "        self.age = rng_agentinit().integers(0, 10)\n",
    "    if self.age_level[0] == \"ü\":  # ü70\n",
    "        self.age = age_level + self.age\n",
    "    else:\n",
    "        self.age = age_level - self.age % 10\n",
    "    return\n",
    "# No working code !! -->"
   ]
  },
  {
   "cell_type": "markdown",
   "id": "64388b56-8276-4429-92c9-d4e0c92873ee",
   "metadata": {},
   "source": [
    "## Functions"
   ]
  },
  {
   "cell_type": "code",
   "execution_count": null,
   "id": "fb9128e8-f28c-4843-8fda-e8be22463fa2",
   "metadata": {},
   "outputs": [],
   "source": [
    "def plus(a, b):\n",
    "    return a + b"
   ]
  },
  {
   "cell_type": "code",
   "execution_count": null,
   "id": "f21b4c7f-6d29-4776-8084-e841281526be",
   "metadata": {},
   "outputs": [],
   "source": [
    "def spendBudget(budget):\n",
    "    while budget > 0:\n",
    "        spent = random.randrange(10)\n",
    "        print(\"Inital budget: \" + str(budget) + \" - \" + str(spent) + \" = \" + str(budget - spent))\n",
    "        budget -=spent"
   ]
  },
  {
   "cell_type": "code",
   "execution_count": null,
   "id": "b7162f7e-9c67-487c-85d3-c0e4acbeec0b",
   "metadata": {},
   "outputs": [],
   "source": [
    "spendBudget(30)\n",
    "spendBudget(50)"
   ]
  },
  {
   "cell_type": "code",
   "execution_count": null,
   "id": "9f74dcd3-6d60-4a4b-b9dc-69f62c404987",
   "metadata": {},
   "outputs": [],
   "source": [
    "def do_something_else(a=1, b=2, c=3):\n",
    "    return (a, b, c)"
   ]
  },
  {
   "cell_type": "code",
   "execution_count": null,
   "id": "23096e15-f52b-4dd9-8e82-ad9d4a2c0ec0",
   "metadata": {},
   "outputs": [],
   "source": [
    "do_something_else(3,3,3)"
   ]
  },
  {
   "cell_type": "code",
   "execution_count": null,
   "id": "1976d914-6e94-43c4-b1d1-9be92f17553f",
   "metadata": {},
   "outputs": [],
   "source": [
    "do_something_else()"
   ]
  },
  {
   "cell_type": "code",
   "execution_count": null,
   "id": "d085780f-6fa5-4c96-b077-2e39378372b8",
   "metadata": {},
   "outputs": [],
   "source": [
    "do_something_else(2,2)"
   ]
  },
  {
   "cell_type": "code",
   "execution_count": null,
   "id": "272c7652-a4c8-407b-b59e-54ce22db55ce",
   "metadata": {},
   "outputs": [],
   "source": [
    "res = do_something_else(3,c=5)\n",
    "print(res)"
   ]
  },
  {
   "cell_type": "code",
   "execution_count": null,
   "id": "87dd7b0d-e7ba-4370-b7d1-a0b41013dafd",
   "metadata": {},
   "outputs": [],
   "source": [
    "print(res)"
   ]
  },
  {
   "cell_type": "markdown",
   "id": "f95ef393-5574-4115-abbe-2bf7b22b0904",
   "metadata": {},
   "source": [
    "## Scope"
   ]
  },
  {
   "cell_type": "code",
   "execution_count": null,
   "id": "aca34890-6b03-4ed2-9516-1a19827dca70",
   "metadata": {},
   "outputs": [],
   "source": [
    "# Global variables:\n",
    "globalVar = 42\n",
    "def do_something_different(a=1, b=2, c=3):\n",
    "    global globalVar\n",
    "    globalVar = a\n",
    "    print(globalVar)"
   ]
  },
  {
   "cell_type": "code",
   "execution_count": null,
   "id": "ac8d0d2d-9df8-4f83-96d6-aaa6e65a4804",
   "metadata": {},
   "outputs": [],
   "source": [
    "print(globalVar)"
   ]
  },
  {
   "cell_type": "code",
   "execution_count": null,
   "id": "8bfd9608-e81d-4b24-8c36-02b588e5cdf8",
   "metadata": {},
   "outputs": [],
   "source": [
    "do_something_different(3,3,3)"
   ]
  },
  {
   "cell_type": "code",
   "execution_count": null,
   "id": "06174832-459a-478b-bfd3-b64629c69761",
   "metadata": {},
   "outputs": [],
   "source": [
    "print(globalVar)"
   ]
  },
  {
   "cell_type": "code",
   "execution_count": null,
   "id": "de774bc3-faa3-4803-a95f-09d157f9d845",
   "metadata": {},
   "outputs": [],
   "source": [
    "y = 0\n",
    "for x in range(10):\n",
    "    y = x\n",
    "\n",
    "print(y)"
   ]
  },
  {
   "cell_type": "code",
   "execution_count": null,
   "id": "167cd270-ca15-4d1b-88ac-3022fb069107",
   "metadata": {},
   "outputs": [],
   "source": [
    "x= 13\n",
    "[x for x in range(10, 20)]\n",
    "print(x)"
   ]
  },
  {
   "cell_type": "markdown",
   "id": "1a054d90-0e74-4d0a-b6bb-5277cbdde96e",
   "metadata": {},
   "source": [
    "Python follows the LEGB Rule:\n",
    "\n",
    "* L, Local: Names assigned in any way within a function (def or lambda)), and not declared global in that function.\n",
    "* E, Enclosing function locals: Name in the local scope of any and all enclosing functions (def or lambda), from inner to outer.\n",
    "* G, Global (module): Names assigned at the top-level of a module file, or declared global in a def within the file.\n",
    "* B, Built-in (Python): Names preassigned in the built-in names module : open, range, SyntaxError,..."
   ]
  },
  {
   "cell_type": "code",
   "execution_count": null,
   "id": "bdb2857d-6d81-4966-bebf-d6543a559ecd",
   "metadata": {},
   "outputs": [],
   "source": [
    "# Locals and enclosing function locals:\n",
    "x = 3\n",
    "def foo():\n",
    "    x=4\n",
    "    def bar():\n",
    "        print(x)  # Accesses x from foo's scope\n",
    "    bar()  # Prints 4\n",
    "    x=5\n",
    "    bar()  # Prints 5"
   ]
  },
  {
   "cell_type": "code",
   "execution_count": null,
   "id": "74c18216-b624-49b0-9e71-0ec6842f0a69",
   "metadata": {},
   "outputs": [],
   "source": [
    "foo()"
   ]
  },
  {
   "cell_type": "code",
   "execution_count": null,
   "id": "5ae2e4d5-2fc8-4356-81f6-cbe381b3a994",
   "metadata": {},
   "outputs": [],
   "source": [
    "x = 3\n",
    "def foo():\n",
    "    x=4\n",
    "    def bar():\n",
    "        x=0\n",
    "        print(x)  # Accesses x from foo's scope\n",
    "    bar()  # Prints 4\n",
    "    x=5\n",
    "    bar()  # Prints 5\n",
    "    "
   ]
  },
  {
   "cell_type": "code",
   "execution_count": null,
   "id": "fd3c73b4-12a7-479b-b6c4-908398f7d9f6",
   "metadata": {},
   "outputs": [],
   "source": [
    "foo()"
   ]
  },
  {
   "cell_type": "markdown",
   "id": "c2edd57f-5ee7-44bf-b2c2-3cc6960f9c1a",
   "metadata": {},
   "source": [
    "## Modules and Packages"
   ]
  },
  {
   "cell_type": "markdown",
   "id": "3ac7426a-6e31-449e-9189-5a7e39c3f2ad",
   "metadata": {},
   "source": [
    "More information: https://realpython.com/python-modules-packages/\n",
    "\n",
    "<img src=\"./IntroPython_FunctionToLibraries.png\" alt= “Structure” width=\"500px\">"
   ]
  },
  {
   "cell_type": "markdown",
   "id": "727f12f7-0212-4097-b53c-6fc1baef3db4",
   "metadata": {},
   "source": [
    "## Python module files"
   ]
  },
  {
   "cell_type": "markdown",
   "id": "c2554921-e578-4188-b313-8a3519a0966b",
   "metadata": {},
   "source": [
    " * Header\n",
    " * Import statements\n",
    " * Constants\n",
    " * Global variables\n",
    " * Class\n",
    " * Methods"
   ]
  },
  {
   "cell_type": "markdown",
   "id": "745ef9ea-8a8d-4c37-8ff4-0164953de858",
   "metadata": {},
   "source": [
    "## Valuable thoughts"
   ]
  },
  {
   "cell_type": "code",
   "execution_count": null,
   "id": "4fc85df0-6072-439a-8724-4ff58aa9e56f",
   "metadata": {},
   "outputs": [],
   "source": [
    "import this"
   ]
  },
  {
   "cell_type": "code",
   "execution_count": null,
   "id": "fd21c703-c4f7-4e75-a1e8-4cc8e5257fc6",
   "metadata": {},
   "outputs": [],
   "source": []
  }
 ],
 "metadata": {
  "kernelspec": {
   "display_name": "Python 3 (ipykernel)",
   "language": "python",
   "name": "python3"
  },
  "language_info": {
   "codemirror_mode": {
    "name": "ipython",
    "version": 3
   },
   "file_extension": ".py",
   "mimetype": "text/x-python",
   "name": "python",
   "nbconvert_exporter": "python",
   "pygments_lexer": "ipython3",
   "version": "3.10.12"
  }
 },
 "nbformat": 4,
 "nbformat_minor": 5
}
